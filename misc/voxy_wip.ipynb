{
 "cells": [
  {
   "cell_type": "code",
   "execution_count": null,
   "metadata": {},
   "outputs": [],
   "source": []
  },
  {
   "cell_type": "code",
   "execution_count": null,
   "metadata": {},
   "outputs": [],
   "source": []
  },
  {
   "cell_type": "code",
   "execution_count": 1,
   "metadata": {},
   "outputs": [
    {
     "name": "stdout",
     "output_type": "stream",
     "text": [
      "\n",
      "=== Example 1: Basic Usage ===\n",
      "import error: No module named 'triton'\n",
      "Using existing model from cache: /Users/thorwhalen/.cache/huggingface/hub/models--sesame--csm-1b/snapshots/03ab46ff5cfdcc783cc76fcf9ea6fd0838503093/ckpt.pt\n",
      "Loading CSM model on cpu...\n",
      "ckpt path or config path does not exist! Downloading the model from the Hugging Face Hub...\n"
     ]
    },
    {
     "data": {
      "application/vnd.jupyter.widget-view+json": {
       "model_id": "cf6ade0eb397436ca26b2967974cb042",
       "version_major": 2,
       "version_minor": 0
      },
      "text/plain": [
       "Fetching 13 files:   0%|          | 0/13 [00:00<?, ?it/s]"
      ]
     },
     "metadata": {},
     "output_type": "display_data"
    },
    {
     "name": "stdout",
     "output_type": "stream",
     "text": [
      "Model loaded successfully.\n"
     ]
    },
    {
     "name": "stderr",
     "output_type": "stream",
     "text": [
      "/Users/thorwhalen/.pyenv/versions/3.10.13/envs/p10/lib/python3.10/site-packages/bitsandbytes/cextension.py:34: UserWarning: The installed version of bitsandbytes was compiled without GPU support. 8-bit optimizers, 8-bit multiplication, and GPU quantization are unavailable.\n",
      "  warn(\"The installed version of bitsandbytes was compiled without GPU support. \"\n"
     ]
    },
    {
     "name": "stdout",
     "output_type": "stream",
     "text": [
      "'NoneType' object has no attribute 'cadam32bit_grad_fp32'\n",
      "Generated audio saved to output/basic_output.wav\n",
      "Audio shape: torch.Size([240000]), Sample rate: 24000\n"
     ]
    }
   ],
   "source": [
    "from voxy.examples.usage_example import example_1_basic_usage\n",
    "\n",
    "\n",
    "example_1_basic_usage()"
   ]
  },
  {
   "cell_type": "code",
   "execution_count": 4,
   "metadata": {},
   "outputs": [
    {
     "data": {
      "text/plain": [
       "False"
      ]
     },
     "execution_count": 4,
     "metadata": {},
     "output_type": "execute_result"
    }
   ],
   "source": [
    "import os\n",
    "\n",
    "os.path.exists('output/basic_output.wav')"
   ]
  },
  {
   "cell_type": "code",
   "execution_count": 2,
   "metadata": {},
   "outputs": [
    {
     "data": {
      "application/vnd.jupyter.widget-view+json": {
       "model_id": "c54c73ed2b534ca38237cea0e7bbe079",
       "version_major": 2,
       "version_minor": 0
      },
      "text/plain": [
       "Fetching 11 files:   0%|          | 0/11 [00:00<?, ?it/s]"
      ]
     },
     "metadata": {},
     "output_type": "display_data"
    },
    {
     "data": {
      "application/vnd.jupyter.widget-view+json": {
       "model_id": "b4626aacafba49869b1a4ca89a25a404",
       "version_major": 2,
       "version_minor": 0
      },
      "text/plain": [
       "read_speech_a.wav:   0%|          | 0.00/831k [00:00<?, ?B/s]"
      ]
     },
     "metadata": {},
     "output_type": "display_data"
    },
    {
     "data": {
      "application/vnd.jupyter.widget-view+json": {
       "model_id": "0d9ed553f43545e6920ccc1f9c822165",
       "version_major": 2,
       "version_minor": 0
      },
      "text/plain": [
       "read_speech_c.wav:   0%|          | 0.00/386k [00:00<?, ?B/s]"
      ]
     },
     "metadata": {},
     "output_type": "display_data"
    },
    {
     "data": {
      "application/vnd.jupyter.widget-view+json": {
       "model_id": "6460de366a3c4d308804d35f9350c176",
       "version_major": 2,
       "version_minor": 0
      },
      "text/plain": [
       "read_speech_d.wav:   0%|          | 0.00/436k [00:00<?, ?B/s]"
      ]
     },
     "metadata": {},
     "output_type": "display_data"
    },
    {
     "data": {
      "application/vnd.jupyter.widget-view+json": {
       "model_id": "f9e5708a5c404139a7c02e903a0257a6",
       "version_major": 2,
       "version_minor": 0
      },
      "text/plain": [
       "read_speech_b.wav:   0%|          | 0.00/576k [00:00<?, ?B/s]"
      ]
     },
     "metadata": {},
     "output_type": "display_data"
    },
    {
     "data": {
      "application/vnd.jupyter.widget-view+json": {
       "model_id": "57a284108e194ee7ba83b6150cbf5f4a",
       "version_major": 2,
       "version_minor": 0
      },
      "text/plain": [
       ".gitattributes:   0%|          | 0.00/1.90k [00:00<?, ?B/s]"
      ]
     },
     "metadata": {},
     "output_type": "display_data"
    },
    {
     "data": {
      "application/vnd.jupyter.widget-view+json": {
       "model_id": "a26c76ac17cc4212a84967526caccfa6",
       "version_major": 2,
       "version_minor": 0
      },
      "text/plain": [
       "README.md:   0%|          | 0.00/4.16k [00:00<?, ?B/s]"
      ]
     },
     "metadata": {},
     "output_type": "display_data"
    },
    {
     "name": "stdout",
     "output_type": "stream",
     "text": [
      "/Users/thorwhalen/.cache/huggingface/hub/models--sesame--csm-1b/snapshots/03ab46ff5cfdcc783cc76fcf9ea6fd0838503093\n"
     ]
    }
   ],
   "source": [
    "from huggingface_hub import snapshot_download\n",
    "\n",
    "model_path = snapshot_download(\"sesame/csm-1b\")\n",
    "print(model_path)"
   ]
  },
  {
   "cell_type": "code",
   "execution_count": null,
   "metadata": {},
   "outputs": [],
   "source": []
  },
  {
   "cell_type": "markdown",
   "metadata": {},
   "source": [
    "# Appendix: Knowledge base"
   ]
  },
  {
   "cell_type": "code",
   "execution_count": null,
   "metadata": {},
   "outputs": [],
   "source": [
    "from dol import store_aggregate, wrap_kvs\n",
    "from pathlib import Path \n",
    "\n",
    "files = {\n",
    "    \"csm/readme.md\": \"/Users/thorwhalen/Dropbox/py/pkgs/csm/README.md\",\n",
    "    \"csm/generator.py\": \"/Users/thorwhalen/Dropbox/py/pkgs/csm/generator.py\",\n",
    "    \"csm/models.py\": \"/Users/thorwhalen/Dropbox/py/pkgs/csm/models.py\",\n",
    "    \"csm/run_csm.py\": \"/Users/thorwhalen/Dropbox/py/pkgs/csm/run_csm.py\",\n",
    "\n",
    "    \"csm-voice-cloning/readme.md\": \"/Users/thorwhalen/Dropbox/py/pkgs/csm-voice-cloning/README.md\",\n",
    "    \"csm-voice-cloning/voice_clone.py\": \"/Users/thorwhalen/Dropbox/py/pkgs/csm-voice-cloning/voice_clone.py\",\n",
    "    \"csm-voice-cloning/modal_voice_cloning.py\": \"/Users/thorwhalen/Dropbox/py/pkgs/csm-voice-cloning/modal_voice_cloning.py\",\n",
    "    \"csm-voice-cloning/watermarking.py\": \"/Users/thorwhalen/Dropbox/py/pkgs/csm-voice-cloning/watermarking.py\",\n",
    "}\n",
    "\n",
    "t = store_aggregate(wrap_kvs(files, value_decoder=lambda f: Path(f).read_text()))\n",
    "\n",
    "from pyperclip import copy\n",
    "copy(t)"
   ]
  },
  {
   "cell_type": "code",
   "execution_count": null,
   "metadata": {},
   "outputs": [],
   "source": []
  },
  {
   "cell_type": "code",
   "execution_count": null,
   "metadata": {},
   "outputs": [],
   "source": []
  },
  {
   "cell_type": "code",
   "execution_count": null,
   "metadata": {},
   "outputs": [],
   "source": []
  },
  {
   "cell_type": "code",
   "execution_count": null,
   "metadata": {},
   "outputs": [],
   "source": []
  }
 ],
 "metadata": {
  "kernelspec": {
   "display_name": "p10",
   "language": "python",
   "name": "python3"
  },
  "language_info": {
   "codemirror_mode": {
    "name": "ipython",
    "version": 3
   },
   "file_extension": ".py",
   "mimetype": "text/x-python",
   "name": "python",
   "nbconvert_exporter": "python",
   "pygments_lexer": "ipython3",
   "version": "3.10.13"
  }
 },
 "nbformat": 4,
 "nbformat_minor": 2
}
